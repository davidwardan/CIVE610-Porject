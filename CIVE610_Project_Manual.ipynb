{
  "nbformat": 4,
  "nbformat_minor": 0,
  "metadata": {
    "colab": {
      "name": "CIVE610_Project_Manual.ipynb",
      "provenance": [],
      "authorship_tag": "ABX9TyNhl/Rq79d8op99Bx65ZuM1",
      "include_colab_link": true
    },
    "kernelspec": {
      "name": "python3",
      "display_name": "Python 3"
    },
    "language_info": {
      "name": "python"
    }
  },
  "cells": [
    {
      "cell_type": "markdown",
      "metadata": {
        "id": "view-in-github",
        "colab_type": "text"
      },
      "source": [
        "<a href=\"https://colab.research.google.com/github/drw02/CIVE610-Porject/blob/main/CIVE610_Project_Manual.ipynb\" target=\"_parent\"><img src=\"https://colab.research.google.com/assets/colab-badge.svg\" alt=\"Open In Colab\"/></a>"
      ]
    },
    {
      "cell_type": "code",
      "metadata": {
        "colab": {
          "base_uri": "https://localhost:8080/"
        },
        "id": "iTy4pYfM7gof",
        "outputId": "0eab517e-845d-4019-c8ea-32ee4796b024"
      },
      "source": [
        "# clone repo\n",
        "!git clone https://github.com/drw02/CIVE610-Porject.git\n",
        "%cd /content/CIVE610-Porject"
      ],
      "execution_count": null,
      "outputs": [
        {
          "output_type": "stream",
          "name": "stdout",
          "text": [
            "Cloning into 'CIVE610-Porject'...\n",
            "remote: Enumerating objects: 26, done.\u001b[K\n",
            "remote: Counting objects: 100% (26/26), done.\u001b[K\n",
            "remote: Compressing objects: 100% (25/25), done.\u001b[K\n",
            "remote: Total 26 (delta 4), reused 0 (delta 0), pack-reused 0\u001b[K\n",
            "Unpacking objects: 100% (26/26), done.\n",
            "/content/CIVE610-Porject\n"
          ]
        }
      ]
    },
    {
      "cell_type": "code",
      "metadata": {
        "id": "rjffk33v8xZA"
      },
      "source": [
        "# import libraries needed\n",
        "import numpy as np\n",
        "import matplotlib.pyplot as plt\n",
        "import math"
      ],
      "execution_count": null,
      "outputs": []
    },
    {
      "cell_type": "markdown",
      "metadata": {
        "id": "_TAqEqrOKti_"
      },
      "source": [
        "##Units\n",
        "\n",
        "\n",
        "\n",
        "*   SI: N, mm, celsius\n",
        "*   US: Kips, in, Fahrenheit\n",
        "\n"
      ]
    },
    {
      "cell_type": "markdown",
      "metadata": {
        "id": "xvM0G1Yw7XY_"
      },
      "source": [
        "#1. TRUSS ANALYSIS"
      ]
    },
    {
      "cell_type": "markdown",
      "metadata": {
        "id": "Y3LeAxJe7ag1"
      },
      "source": [
        "##1.1 LINEAR ANALYSIS"
      ]
    },
    {
      "cell_type": "markdown",
      "metadata": {
        "id": "yOywEEuM_8UA"
      },
      "source": [
        " Input parameters\n",
        "\n",
        "\n",
        "\n",
        "*   COORD: the joint coordinates of the structure\n",
        "*   MSUP: the support data of each joint, following same order of joints in COORD. (Rx,Ry) where \"0\" indicates no restraint and \"1\" indicates a restraint\n",
        "*   MPRP: member connectivity (starting joint, ending joint)\n",
        "*   EM: member modulud of elsticity, follows same order of members in MPRP\n",
        "*   CP: cross-sectional area of each member, follows same order of members in MPRP\n",
        "*   PJ: joint external loads, follows same order of joint in COORD\n",
        "\n",
        "\n",
        "\n",
        "\n",
        "\n"
      ]
    },
    {
      "cell_type": "code",
      "metadata": {
        "id": "SOhXSODH7aFS"
      },
      "source": [
        "# change input data below to define structure\n",
        "\n",
        "# Joint Data\n",
        "COORD = np.array([[0,0],[192,0],[96,72],[96,144]]) # create coordinate matrix\n",
        "NJ=np.size(COORD, 0)\n",
        "\n",
        "# Support Data\n",
        "MSUP = np.array([[1,1],[1,1],[0,0],[1,1]]) # support data matrix MSUP in order of joints\n",
        "\n",
        "# Member Data\n",
        "MPRP=np.array([[1,3],[2,3],[3,4]]) # starting joint, end joint # in order of memebers\n",
        "\n",
        "# Material Property (E)\n",
        "EM = np.array([[1300],[1300],[1300]]) # insert in order of members\n",
        "\n",
        "# Cross-Sectional Property\n",
        "CP= np.array([[2],[2],[1]]) # insert in order of members\n",
        "\n",
        "# Load Data\n",
        "PJ=np.array([[0,0],[0,0],[400,-800],[0,0]]) # insert in order of joints"
      ],
      "execution_count": null,
      "outputs": []
    },
    {
      "cell_type": "markdown",
      "metadata": {
        "id": "XGtZBGC7BNcj"
      },
      "source": [
        "Get global stiffness matrix fo structure"
      ]
    },
    {
      "cell_type": "code",
      "metadata": {
        "id": "EHeWA0kt7cP1"
      },
      "source": [
        "# get global stiffness matrix of truss structure\n",
        "from truss_global_stiffness import truss_global_stiffness\n",
        "glob_k = truss_global_stiffness(COORD, MPRP, EM, CP)"
      ],
      "execution_count": null,
      "outputs": []
    },
    {
      "cell_type": "markdown",
      "metadata": {
        "id": "NRIr5-9ZBR9M"
      },
      "source": [
        "Split the global stiffness matrix"
      ]
    },
    {
      "cell_type": "code",
      "metadata": {
        "id": "6aNbpw1k83MG"
      },
      "source": [
        "# this functions splits global stiffness matrix\n",
        "from truss_k_split import split_matrix\n",
        "kff, kcc, kfc, kcf, ff, cc = split_matrix(glob_k, MSUP)"
      ],
      "execution_count": null,
      "outputs": []
    },
    {
      "cell_type": "markdown",
      "metadata": {
        "id": "s7OoPj59BW1p"
      },
      "source": [
        "Get all joint loads and displacements"
      ]
    },
    {
      "cell_type": "code",
      "metadata": {
        "id": "MoTJbEk385Ff"
      },
      "source": [
        "# get force and displacement vectors\n",
        "from truss_f_d import truss_f_d\n",
        "F, U = truss_f_d(glob_k, kff, kcf, MSUP, PJ, ff, cc)"
      ],
      "execution_count": null,
      "outputs": []
    },
    {
      "cell_type": "markdown",
      "metadata": {
        "id": "g7etruGwBso1"
      },
      "source": [
        "Plot deformed shape"
      ]
    },
    {
      "cell_type": "code",
      "metadata": {
        "id": "5GMcz9zI869L"
      },
      "source": [
        "# get deformed coordinates of truss\n",
        "from truss_deformed import deformed_COORD\n",
        "COORD_new = deformed_COORD(COORD, U)\n",
        "\n",
        "# get coordinates for truss system\n",
        "from plot_COORD import  get_plot_COORD\n",
        "COORD_plot = get_plot_COORD(COORD, MPRP)\n",
        "x = COORD_plot[:,0] # collect x coordinates\n",
        "y = COORD_plot[:,1] # collect y coordinates\n",
        "\n",
        "# get coordinates for truss deformed shape\n",
        "COORD_new_plot = get_plot_COORD(COORD_new, MPRP)\n",
        "x_new = COORD_new_plot[:,0] \n",
        "y_new = COORD_new_plot[:,1]\n",
        "\n",
        "# Plotting both the curves simultaneously\n",
        "plt.plot(x, y, color='r', label='original')\n",
        "plt.plot(x_new, y_new, color='g', label='deformed')\n",
        "\n",
        "plt.legend()\n",
        "plt.show()"
      ],
      "execution_count": null,
      "outputs": []
    },
    {
      "cell_type": "markdown",
      "metadata": {
        "id": "qlrOI6UX-9uz"
      },
      "source": [
        "##1.2 NonLinear"
      ]
    },
    {
      "cell_type": "markdown",
      "metadata": {
        "id": "3bkANzLFB3ho"
      },
      "source": [
        " Input parameters\n",
        "\n",
        "\n",
        "\n",
        "*   COORD: the joint coordinates of the structure\n",
        "*   MSUP: the support data of each joint, following same order of joints in COORD. (Rx,Ry) where \"0\" indicates no restraint and \"1\" indicates a restraint\n",
        "*   MPRP: member connectivity (starting joint, ending joint)\n",
        "*   EM: member modulud of elsticity, follows same order of members in MPRP\n",
        "*   CP: cross-sectional area of each member, follows same order of members in MPRP\n",
        "*   PJ: joint external loads, follows same order of joint in COORD\n",
        "\n",
        "\n",
        "\n",
        "\n",
        "\n"
      ]
    },
    {
      "cell_type": "code",
      "metadata": {
        "id": "EkGE7Gim_LBf"
      },
      "source": [
        "# Joint Data\n",
        "COORD = np.array([[0,0],[192,0],[96,72],[96,144]]) # create coordinate matrix\n",
        "NJ=np.size(COORD, 0)\n",
        "\n",
        "# Support Data\n",
        "MSUP = np.array([[1,1],[1,1],[0,0],[1,1]]) # support data matrix MSUP in order of joints\n",
        "\n",
        "# Member Data\n",
        "MPRP=np.array([[1,3],[2,3],[3,4]]) # starting joint, end joint # in order of memebers\n",
        "\n",
        "# Material Property (E)\n",
        "EM = np.array([[1300],[1300],[1300]]) # insert in order of members\n",
        "\n",
        "# Cross-Sectional Property\n",
        "CP= np.array([[2],[2],[1]]) # insert in order of members\n",
        "\n",
        "# Load Data\n",
        "PJ=np.array([[0,0],[0,0],[400,-800],[0,0]]) # insert in order of joints"
      ],
      "execution_count": null,
      "outputs": []
    },
    {
      "cell_type": "markdown",
      "metadata": {
        "id": "XvqPsu3bB8Fo"
      },
      "source": [
        "Get global stiffness matrix of structure with n consideration to geometric non-linearity"
      ]
    },
    {
      "cell_type": "code",
      "metadata": {
        "id": "YYrtHNSz_PSo"
      },
      "source": [
        "# get global stiffness matrix of truss structure\n",
        "from truss_global_stiffness import truss_global_stiffness\n",
        "glob_k_e = truss_global_stiffness(COORD, MPRP, EM, CP) # elastic behavior"
      ],
      "execution_count": null,
      "outputs": []
    },
    {
      "cell_type": "markdown",
      "metadata": {
        "id": "qAXrKDSTCS1G"
      },
      "source": [
        "Split stiffness matrix"
      ]
    },
    {
      "cell_type": "code",
      "metadata": {
        "id": "5emIBkFy_QB3"
      },
      "source": [
        "# this functions splits global stiffness matrix\n",
        "from truss_k_split import split_matrix\n",
        "kff_e, kcc_e, kfc_e, kcf_e, ff, cc = split_matrix(glob_k_e, MSUP)"
      ],
      "execution_count": null,
      "outputs": []
    },
    {
      "cell_type": "markdown",
      "metadata": {
        "id": "0OyBER8QCVoD"
      },
      "source": [
        "Get joint forces and displacements"
      ]
    },
    {
      "cell_type": "code",
      "metadata": {
        "id": "ha8piWxI_SLz"
      },
      "source": [
        "# get force and displacement vectors\n",
        "from truss_f_d import truss_f_d\n",
        "F, Uprev = truss_f_d(glob_k_e, kff_e, kcf_e, MSUP, PJ, ff, cc)"
      ],
      "execution_count": null,
      "outputs": []
    },
    {
      "cell_type": "markdown",
      "metadata": {
        "id": "C-XFsZj4CoaF"
      },
      "source": [
        "Iterate to get actual displacemnts with specified tolerance"
      ]
    },
    {
      "cell_type": "code",
      "metadata": {
        "id": "4I0k-hcSCvva"
      },
      "source": [
        "# specify tolerance at which you need the aieration to stop\n",
        "tolerance = 0.001"
      ],
      "execution_count": null,
      "outputs": []
    },
    {
      "cell_type": "code",
      "metadata": {
        "id": "vi1ew_hV_AeN"
      },
      "source": [
        "tol = 1\n",
        "\n",
        "while tol >= tolerance:\n",
        "\n",
        "    # get new deformed coordinates of truss\n",
        "    from truss_deformed import deformed_COORD\n",
        "    COORD_new = deformed_COORD(COORD, Uprev)\n",
        "\n",
        "    # start ietartions here ...\n",
        "\n",
        "    # get global parameters\n",
        "    from truss_global_stiffness_NL import truss_global_stiffness_NL\n",
        "    glob_k, glob_f = truss_global_stiffness_NL(COORD_new, COORD, MPRP, EM, CP)\n",
        "\n",
        "    # split matrix \n",
        "    from truss_k_split import split_matrix\n",
        "    kff, kcc, kfc, kcf, ff, cc = split_matrix(glob_k, MSUP)\n",
        "\n",
        "    # split force vector\n",
        "    f_ff = glob_f[ff]\n",
        "\n",
        "    # split applied force vector\n",
        "    fr = []\n",
        "    for row in PJ:\n",
        "        for i in row:\n",
        "            fr.append(i)\n",
        "\n",
        "    fr = np.transpose(np.array([fr]))\n",
        "    fr_ff = fr[ff]\n",
        "\n",
        "    # subtract forces\n",
        "\n",
        "    f = np.subtract(fr_ff,f_ff)\n",
        "\n",
        "    delta_d = np.dot(np.linalg.inv(kff), f)\n",
        "\n",
        "    u = Uprev[ff]\n",
        "    u = np.transpose(u)\n",
        "    u = np.reshape(u, (len(ff),1))\n",
        "\n",
        "    tol = math.sqrt( np.sum(delta_d*delta_d)/np.sum(u*u))\n",
        "\n",
        "    u_ = np.add(delta_d,u)\n",
        "\n",
        "    uf_list = u_.tolist()\n",
        "\n",
        "    U=[0] * (len(ff)+len(cc))\n",
        "\n",
        "    for x, y in zip(uf_list, ff):\n",
        "        U[y]=x[0]\n",
        "\n",
        "    Uprev=np.array(U)"
      ],
      "execution_count": null,
      "outputs": []
    },
    {
      "cell_type": "markdown",
      "metadata": {
        "id": "1YbrgK6aLILf"
      },
      "source": [
        "Plot deformed shape"
      ]
    },
    {
      "cell_type": "code",
      "metadata": {
        "id": "PSxo14YpLGye"
      },
      "source": [
        "# plot deformed shape\n",
        "\n",
        "COORD_new = deformed_COORD(COORD, Uprev)\n",
        "\n",
        "# get coordinates for truss system\n",
        "from plot_COORD import  get_plot_COORD\n",
        "COORD_plot = get_plot_COORD(COORD, MPRP)\n",
        "x = COORD_plot[:,0] # collect x coordinates\n",
        "y = COORD_plot[:,1] # collect y coordinates\n",
        "\n",
        "\n",
        "# get coordinates for truss deformed shape\n",
        "COORD_new_plot = get_plot_COORD(COORD_new, MPRP)\n",
        "x_new = COORD_new_plot[:,0] \n",
        "y_new = COORD_new_plot[:,1]\n",
        "\n",
        "\n",
        "# Plotting both the curves simultaneously\n",
        "plt.plot(x, y, color='r', label='original')\n",
        "plt.plot(x_new, y_new, color='g', label='deformed')\n",
        "\n",
        "plt.legend()\n",
        "plt.show()"
      ],
      "execution_count": null,
      "outputs": []
    },
    {
      "cell_type": "markdown",
      "metadata": {
        "id": "a4-ve1VM_elf"
      },
      "source": [
        "###2. FRAME/BEAM ANALYSIS"
      ]
    },
    {
      "cell_type": "markdown",
      "metadata": {
        "id": "-2lvEzLrDCwK"
      },
      "source": [
        " Input parameters\n",
        "\n",
        "\n",
        "\n",
        "*   COORD: the joint coordinates of the structure\n",
        "*   MSUP: the support data of each joint, following same order of joints in COORD. (Rx,Ry, Mz) where \"0\" indicates no restraint and \"1\" indicates a restraint\n",
        "*   MPRP: member connectivity (starting joint, ending joint)\n",
        "*   EM: member modulud of elsticity, follows same order of members in MPRP\n",
        "*   CP: cross-sectional area of each member, follows same order of members in MPRP\n",
        "*   IP: moment of inertia of each member, follows same order of members in MPRP\n",
        "*   MR: moment releases for each member, \"0\" indicates no release and \"1\" indicates a moment release. (starting joint of memebr, ending joint of member)\n",
        "*   PJ: joint external loads, follows same order of joint in COORD\n"
      ]
    },
    {
      "cell_type": "markdown",
      "metadata": {
        "id": "2VOgTYT2DycW"
      },
      "source": [
        "Load data\n",
        "\n",
        "1. Concentrated load: (a,p) where a is distance from the starting joint of the member to the load, and p is the load value [downwards is positive]\n",
        "2. Concentrated moment: (a, m) where a is distance from the starting joint of the member to the load, and m is the moment value [counter clockwise is positive]\n",
        "3. Distributed uniform load: (a, b, w) where a is the distance from the strating joint of the member to the midpoint of the distributed laod, b is the length of the distributed load, and w is the distributed load value\n",
        "4. Thermal load: (alpha factor, Tupper, Tlower, h) where the alpha factor is the thremal expansion factor, Tupper is the temperature at the top of the member, Tlower is the temperature at the bottom of the member, h is the height of the member\n",
        "5. Support Settlement (settlement at start, setllement at end).\n",
        "\n",
        "\n",
        "All loads input follows are specified for each individula member with same order of members in MRPR\n",
        "Tool can only handle one of the load types 1 to 3 on a member. If more than one is specified diagrams plotted will be not consistent with results.\n"
      ]
    },
    {
      "cell_type": "markdown",
      "metadata": {
        "id": "t9Uu4t_jIFqx"
      },
      "source": [
        "**Note:** When a moment release is defined, make sure to set a restraint over Mz at that same joint. This will not effect results, however it will ensure that the tool will not run into any singular matrix error."
      ]
    },
    {
      "cell_type": "code",
      "metadata": {
        "colab": {
          "base_uri": "https://localhost:8080/"
        },
        "id": "qb-koXrG_hzy",
        "outputId": "9642d957-1111-46e0-c4a4-7c1ba7fd22f1"
      },
      "source": [
        "# Joint Data\n",
        "COORD = np.array([[0,0],[8000,0],[13000,0]]) # create coordinate matrix\n",
        "NJ=np.size(COORD, 0)\n",
        "\n",
        "# Support Data\n",
        "MSUP = np.array([[0,1,0],[0,1,0],[1,1,1]]) # Rx,Ry,Mz\n",
        "\n",
        "# Material Property (E)\n",
        "EM = np.array([[200],[200]]) # insert in order of members\n",
        "\n",
        "# Cross-Sectional Property\n",
        "CP= np.array([[6000],[4000]]) # insert in order of members\n",
        "\n",
        "# Inertia Property\n",
        "IP= np.array([[200000000],[50000000]]) # insert in order of members\n",
        "\n",
        "# Member Data\n",
        "MPRP=np.array([[1,2],[2,3]]) # starting joint, end joint # in order of memebers\n",
        "\n",
        "# Moment releases\n",
        "MR = np.array([[0,0],[0,0]]) # each row represents a member with each column represetning a node with value \"1\" for releases\n",
        "\n",
        "# Load Data\n",
        "# this apllication will take into consideration three type of loads P, M, and W\n",
        "P=np.array([[0, 0],[2000,20]]) # (a, p) and order is in order of members\n",
        "M=np.array([[4000, 3500],[0,0]]) # (a, M) and order is in order of members\n",
        "W=np.array([[0, 0, 0],[0,0,0]]) # (a, d, W) and order is in order of members\n",
        "Th=np.array([[0,0,0,400],[0,0,0,400]]) # aplha factor, Tupper, Tlower, h \n",
        "                                       # h cannot be 0 always assume a randome value if not given\n",
        "\n",
        "# Load settlement data\n",
        "Delta = np.array([[0,0],[0,0]]) # make sure that settlement is defined consistently thoughout the member\n",
        "\n",
        "# Load joint external loads\n",
        "PJ = np.array([[0,0,0],[0,0,0],[0,0,0]]) # Fx, Fy, Mz"
      ],
      "execution_count": null,
      "outputs": [
        {
          "output_type": "stream",
          "name": "stderr",
          "text": [
            "/usr/local/lib/python3.7/dist-packages/ipykernel_launcher.py:32: VisibleDeprecationWarning: Creating an ndarray from ragged nested sequences (which is a list-or-tuple of lists-or-tuples-or ndarrays with different lengths or shapes) is deprecated. If you meant to do this, you must specify 'dtype=object' when creating the ndarray\n"
          ]
        }
      ]
    },
    {
      "cell_type": "markdown",
      "metadata": {
        "id": "MpbMAdAFFyru"
      },
      "source": [
        "Get global stiffness matrix and favricated forces vector of structure"
      ]
    },
    {
      "cell_type": "code",
      "metadata": {
        "colab": {
          "base_uri": "https://localhost:8080/"
        },
        "id": "klydYRl5_m0D",
        "outputId": "e99fc45c-0cbd-4a1c-9345-99cb4960fea3"
      },
      "source": [
        "# get global stiffness matrix of truss structure\n",
        "from frame_global_stiffness import frame_global_stiffness\n",
        "glob_K, Ff = frame_global_stiffness(COORD, MPRP, EM, CP, IP, P, M ,W , Th, Delta, MR)"
      ],
      "execution_count": null,
      "outputs": [
        {
          "output_type": "stream",
          "name": "stderr",
          "text": [
            "/content/CIVE610-Porject/frame_data_input.py:35: VisibleDeprecationWarning: Creating an ndarray from ragged nested sequences (which is a list-or-tuple of lists-or-tuples-or ndarrays with different lengths or shapes) is deprecated. If you meant to do this, you must specify 'dtype=object' when creating the ndarray\n",
            "  Delta = np.array([[0,0],[0,0,0]]) # make sure that settlement is defined consistently thoughout the member\n"
          ]
        }
      ]
    },
    {
      "cell_type": "markdown",
      "metadata": {
        "id": "1Oy9sKzMF46F"
      },
      "source": [
        "Split global stiffness matrix and fabticated forces vector"
      ]
    },
    {
      "cell_type": "code",
      "metadata": {
        "id": "lF5b9oCU_qHi"
      },
      "source": [
        "#  this functions splits global stiffness matrix\n",
        "from frame_k_split import split_matrix\n",
        "kff, kcc, kfc, kcf, ff, cc = split_matrix(glob_K, MSUP)\n",
        "\n",
        "# this functions splits the fabriacted forces\n",
        "from frame_fabricated_split import split_fabricated\n",
        "Ff_c, Ff_f = split_fabricated(ff ,cc, Ff)"
      ],
      "execution_count": null,
      "outputs": []
    },
    {
      "cell_type": "markdown",
      "metadata": {
        "id": "q2-H3sSdGS7z"
      },
      "source": [
        "Get joint forces and diplacements"
      ]
    },
    {
      "cell_type": "code",
      "metadata": {
        "id": "yutRGbF4_syv"
      },
      "source": [
        "# get displacement and forces vectors\n",
        "from frame_f_d import frame_f_d\n",
        "F, U = frame_f_d(kff, glob_K, Ff_f, PJ, ff, cc , Ff)"
      ],
      "execution_count": null,
      "outputs": []
    },
    {
      "cell_type": "markdown",
      "metadata": {
        "id": "p5yTERVKGVAS"
      },
      "source": [
        "Plot V, M, slope, deflection diagrams"
      ]
    },
    {
      "cell_type": "code",
      "metadata": {
        "colab": {
          "base_uri": "https://localhost:8080/",
          "height": 1000
        },
        "id": "hta3qm2r_uQ9",
        "outputId": "e02c58e3-3eef-4db9-957b-a977a503b817"
      },
      "source": [
        "# plot moment displacement and slope diagrams\n",
        "from frame_element_diagram import frame_elemt_diagram\n",
        "frame_elemt_diagram(COORD, MPRP, EM, CP, IP, P, M ,W , F, U, Th, Delta, MR)"
      ],
      "execution_count": null,
      "outputs": [
        {
          "output_type": "display_data",
          "data": {
            "image/png": "[encoded data removed]",
            "text/plain": [
              "<Figure size 1332x756 with 4 Axes>"
            ]
          },
          "metadata": {
            "needs_background": "light"
          }
        },
        {
          "output_type": "display_data",
          "data": {
            "image/png": "[encoded data removed]",
            "text/plain": [
              "<Figure size 1332x756 with 4 Axes>"
            ]
          },
          "metadata": {
            "needs_background": "light"
          }
        }
      ]
    },
    {
      "cell_type": "markdown",
      "metadata": {
        "id": "uI2HUkDZGlkc"
      },
      "source": [
        "###3. Report Errors\n",
        "\n",
        "To report any erro encounter in the tool kindly refer to the following link:\n",
        "https://github.com/drw02/CIVE610-Porject/issues"
      ]
    },
    {
      "cell_type": "markdown",
      "metadata": {
        "id": "8ANzhh3LGaJB"
      },
      "source": [
        "###4. References"
      ]
    },
    {
      "cell_type": "markdown",
      "metadata": {
        "id": "7A3dLx_EGgKu"
      },
      "source": [
        "\n",
        "\n",
        "*   https://github.com/drw02/CIVE610-Porject\n",
        "*   A. Kassimali, Structural Analysis. Cengage Learning, 2009.\n",
        "\n",
        "\n",
        "\n",
        "\n",
        "\n"
      ]
    }
  ]
}